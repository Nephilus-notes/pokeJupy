{
 "cells": [
  {
   "cell_type": "markdown",
   "metadata": {},
   "source": [
    "# APIs\n"
   ]
  },
  {
   "cell_type": "markdown",
   "metadata": {},
   "source": [
    "## Tasks Today:\n",
    "1) <b>Requests and the pokemon API </b> <br>\n",
    " "
   ]
  },
  {
   "cell_type": "markdown",
   "metadata": {},
   "source": [
    "# working with APis"
   ]
  },
  {
   "cell_type": "markdown",
   "metadata": {},
   "source": [
    "<p> What exactly is an API? <br> <br>\n",
    "API is the acronym for Application Programming Interface, which is a software intermediary that allows two applications to talk to each other. Each time you use an app like Facebook, send an instant message, or check the weather on your phone, you're using an API. </p>"
   ]
  },
  {
   "cell_type": "markdown",
   "metadata": {},
   "source": [
    "### The Poke API  allows you to retreive a pokemon's information from PokeAPI https://pokeapi.co/\n",
    "\n"
   ]
  },
  {
   "cell_type": "code",
   "execution_count": 59,
   "metadata": {},
   "outputs": [
    {
     "name": "stdout",
     "output_type": "stream",
     "text": [
      "What pokemon would you like information about? rapidash\n",
      "success\n",
      "rapidash\n"
     ]
    }
   ],
   "source": [
    "# making an API call\n",
    "import requests\n",
    "\n",
    "pokemon= input('What pokemon would you like information about? ').lower()\n",
    "\n",
    "response = requests.get(f'https://pokeapi.co/api/v2/pokemon/{pokemon}')\n",
    "\n",
    "if response.status_code == 200:\n",
    "    print('success')\n",
    "    data = response.json()\n",
    "else:\n",
    "    print(f'ERROR, STATUS CODE {response.status_code}')\n",
    "    \n",
    "print(data['name'])"
   ]
  },
  {
   "cell_type": "markdown",
   "metadata": {},
   "source": [
    "### Display a Pokemon's name, weight, abilities, and types"
   ]
  },
  {
   "cell_type": "code",
   "execution_count": 60,
   "metadata": {},
   "outputs": [
    {
     "name": "stdout",
     "output_type": "stream",
     "text": [
      "rapidash\n"
     ]
    }
   ],
   "source": [
    "# get the name\n",
    "name =data[\"name\"]\n",
    "print(name)"
   ]
  },
  {
   "cell_type": "code",
   "execution_count": 61,
   "metadata": {},
   "outputs": [
    {
     "data": {
      "text/plain": [
       "[{'slot': 1,\n",
       "  'type': {'name': 'fire', 'url': 'https://pokeapi.co/api/v2/type/10/'}}]"
      ]
     },
     "execution_count": 61,
     "metadata": {},
     "output_type": "execute_result"
    }
   ],
   "source": [
    "data['types']"
   ]
  },
  {
   "cell_type": "code",
   "execution_count": 62,
   "metadata": {},
   "outputs": [
    {
     "name": "stdout",
     "output_type": "stream",
     "text": [
      "['fire']\n"
     ]
    }
   ],
   "source": [
    "# get types\n",
    "types = [type['type']['name'] for type in data['types']]\n",
    "# data['types'][0]['type'] # [ability['ability']['name'] for ability in data['abilities']]\n",
    "\n",
    "print(types)"
   ]
  },
  {
   "cell_type": "code",
   "execution_count": 63,
   "metadata": {},
   "outputs": [],
   "source": [
    "sprite = data['sprites']['front_shiny']"
   ]
  },
  {
   "cell_type": "code",
   "execution_count": 64,
   "metadata": {},
   "outputs": [],
   "source": [
    "height = data['height']"
   ]
  },
  {
   "cell_type": "code",
   "execution_count": 65,
   "metadata": {},
   "outputs": [],
   "source": [
    "# get weight\n",
    "weight = data['weight']"
   ]
  },
  {
   "cell_type": "code",
   "execution_count": 66,
   "metadata": {},
   "outputs": [
    {
     "data": {
      "text/plain": [
       "[{'ability': {'name': 'run-away',\n",
       "   'url': 'https://pokeapi.co/api/v2/ability/50/'},\n",
       "  'is_hidden': False,\n",
       "  'slot': 1},\n",
       " {'ability': {'name': 'flash-fire',\n",
       "   'url': 'https://pokeapi.co/api/v2/ability/18/'},\n",
       "  'is_hidden': False,\n",
       "  'slot': 2},\n",
       " {'ability': {'name': 'flame-body',\n",
       "   'url': 'https://pokeapi.co/api/v2/ability/49/'},\n",
       "  'is_hidden': True,\n",
       "  'slot': 3}]"
      ]
     },
     "execution_count": 66,
     "metadata": {},
     "output_type": "execute_result"
    }
   ],
   "source": [
    "# get abilities\n",
    "data['abilities']"
   ]
  },
  {
   "cell_type": "code",
   "execution_count": 67,
   "metadata": {},
   "outputs": [],
   "source": [
    "ability_names = [ability['ability']['name'] for ability in data['abilities']]"
   ]
  },
  {
   "cell_type": "code",
   "execution_count": 68,
   "metadata": {},
   "outputs": [
    {
     "data": {
      "text/plain": [
       "['run-away', 'flash-fire', 'flame-body']"
      ]
     },
     "execution_count": 68,
     "metadata": {},
     "output_type": "execute_result"
    }
   ],
   "source": [
    "ability_names "
   ]
  },
  {
   "cell_type": "code",
   "execution_count": null,
   "metadata": {},
   "outputs": [],
   "source": []
  },
  {
   "cell_type": "code",
   "execution_count": 69,
   "metadata": {},
   "outputs": [],
   "source": [
    "# Create a structure for a single pokemon\n",
    "pokemon = {\n",
    "    'abilities': ability_names,\n",
    "    'name': data['name'],\n",
    "    'types': types,\n",
    "    'weight': weight,\n",
    "    'height': height,\n",
    "    'sprites': sprite\n",
    "}"
   ]
  },
  {
   "cell_type": "code",
   "execution_count": null,
   "metadata": {},
   "outputs": [],
   "source": []
  },
  {
   "cell_type": "markdown",
   "metadata": {},
   "source": [
    "#### Create a function to Pull in your own Pokemon's data "
   ]
  },
  {
   "cell_type": "code",
   "execution_count": 184,
   "metadata": {},
   "outputs": [
    {
     "ename": "SyntaxError",
     "evalue": "invalid syntax (779691960.py, line 9)",
     "output_type": "error",
     "traceback": [
      "\u001b[1;36m  Input \u001b[1;32mIn [184]\u001b[1;36m\u001b[0m\n\u001b[1;33m    def\u001b[0m\n\u001b[1;37m        ^\u001b[0m\n\u001b[1;31mSyntaxError\u001b[0m\u001b[1;31m:\u001b[0m invalid syntax\n"
     ]
    }
   ],
   "source": [
    "# asks the user to input a pokemon name\n",
    "# requests api for poke info\n",
    "# creates the above datastructure with that pokemon's info\n",
    "# returns dictionary\n",
    "# stores in a dict\n",
    "# include height, 'front_default' sprite\n",
    "\n",
    "\n",
    "def "
   ]
  },
  {
   "cell_type": "code",
   "execution_count": null,
   "metadata": {},
   "outputs": [],
   "source": []
  },
  {
   "cell_type": "raw",
   "metadata": {},
   "source": [
    "chosen_pokes = {}"
   ]
  },
  {
   "cell_type": "code",
   "execution_count": 186,
   "metadata": {},
   "outputs": [
    {
     "name": "stdout",
     "output_type": "stream",
     "text": [
      "Choose your pokemon: rapidash\n",
      "success\n"
     ]
    },
    {
     "data": {
      "text/plain": [
       "{'name': 'rapidash',\n",
       " 'types': ['fire'],\n",
       " 'abilities': ['run-away', 'flash-fire', 'flame-body'],\n",
       " 'weight': 950,\n",
       " 'height': 17,\n",
       " 'sprites': 'https://raw.githubusercontent.com/PokeAPI/sprites/master/sprites/pokemon/versions/generation-v/black-white/animated/shiny/78.gif',\n",
       " 'id': 78}"
      ]
     },
     "execution_count": 186,
     "metadata": {},
     "output_type": "execute_result"
    }
   ],
   "source": [
    "\n",
    "def poke_api_call(pokemon=None):\n",
    "    if not pokemon:\n",
    "        pokemon = input(\"Choose your pokemon: \")\n",
    "    \n",
    "    response = requests.get(f'https://pokeapi.co/api/v2/pokemon/{pokemon}')\n",
    "\n",
    "    if response.status_code == 200:\n",
    "        print('success')\n",
    "        data = response.json()\n",
    "    else:\n",
    "        print(f'ERROR, STATUS CODE {response.status_code}')\n",
    "        return \"ERROR\"\n",
    "    \n",
    "    types = [type['type']['name'] for type in data['types']]\n",
    "    ability_names = [ability['ability']['name'] for ability in data['abilities']]\n",
    "    \n",
    "    # https://raw.githubusercontent.com/PokeAPI/sprites\n",
    "    #/master/sprites/pokemon/versions/generation-v/black-white/animated/shiny/25.gif\n",
    "    sprites = None\n",
    "    try:\n",
    "        sprites = data['sprites']['versions']['generation-v']['black-white']['animated']['front_shiny']\n",
    "    except:\n",
    "        sprites = data['sprites']['front_shiny']\n",
    "    \n",
    "    pokemon = {\n",
    "    'name': data['name'],\n",
    "    'types': types,\n",
    "    'abilities': ability_names,\n",
    "    'weight': data['weight'],\n",
    "    'height': data['height'],\n",
    "    'sprites':  sprites,\n",
    "    'id': data['id']    \n",
    "    }\n",
    "    \n",
    "    chosen_pokes[pokemon['name']]= pokemon\n",
    "    \n",
    "    return(pokemon)\n",
    "\n",
    "poke_api_call()"
   ]
  },
  {
   "cell_type": "code",
   "execution_count": 187,
   "metadata": {},
   "outputs": [
    {
     "data": {
      "text/plain": [
       "{'name': 'bulbasaur',\n",
       " 'types': ['grass', 'poison'],\n",
       " 'abilities': ['overgrow', 'chlorophyll'],\n",
       " 'weight': 69,\n",
       " 'height': 7,\n",
       " 'sprites': 'https://raw.githubusercontent.com/PokeAPI/sprites/master/sprites/pokemon/versions/generation-v/black-white/animated/shiny/1.gif',\n",
       " 'id': 1}"
      ]
     },
     "execution_count": 187,
     "metadata": {},
     "output_type": "execute_result"
    }
   ],
   "source": [
    "from random import randint\n",
    "# Random number generated for each pokemon id\n",
    "random_team = [randint(1,898) for i in range(6)]\n",
    "\n",
    "def rand_poke(num):    \n",
    "    response = requests.get(f'https://pokeapi.co/api/v2/pokemon/{num}')\n",
    "    if response.status_code == 200:\n",
    "        data = response.json()\n",
    "    else:\n",
    "        print(f'ERROR, STATUS CODE {response.status_code}')\n",
    "        return f\"ERROR\"\n",
    "    \n",
    "    types = [type['type']['name'] for type in data['types']]\n",
    "    ability_names = [ability['ability']['name'] for ability in data['abilities']]\n",
    "\n",
    "    \n",
    "    # https://raw.githubusercontent.com/PokeAPI/sprites\n",
    "    #/master/sprites/pokemon/versions/generation-v/black-white/animated/shiny/25.gif\n",
    "    sprites = None\n",
    "    try:\n",
    "        sprites = data['sprites']['versions']['generation-v']['black-white']['animated']['front_shiny']\n",
    "    except:\n",
    "        sprites = data['sprites']['front_shiny']\n",
    "    \n",
    "    pokemon = {\n",
    "    'name': data['name'],\n",
    "    'types': types,\n",
    "    'abilities': ability_names,\n",
    "    'weight': data['weight'],\n",
    "    'height': data['height'],\n",
    "    'sprites':  sprites,\n",
    "    'id': data['id']    \n",
    "    }\n",
    "    \n",
    "    return(pokemon)\n",
    "\n",
    "rand_poke(1)"
   ]
  },
  {
   "cell_type": "code",
   "execution_count": 161,
   "metadata": {},
   "outputs": [
    {
     "name": "stdout",
     "output_type": "stream",
     "text": [
      "{'charizard': {'name': 'charizard', 'types': ['fire', 'flying'], 'abilities': ['blaze', 'solar-power'], 'weight': 905, 'height': 17, 'sprites': 'https://raw.githubusercontent.com/PokeAPI/sprites/master/sprites/pokemon/shiny/6.png', 'id': 6}}\n"
     ]
    }
   ],
   "source": [
    "print(chosen_pokes)"
   ]
  },
  {
   "cell_type": "markdown",
   "metadata": {},
   "source": [
    "Choose your pokemon"
   ]
  },
  {
   "cell_type": "code",
   "execution_count": 188,
   "metadata": {},
   "outputs": [],
   "source": [
    "teams = {}"
   ]
  },
  {
   "cell_type": "code",
   "execution_count": 189,
   "metadata": {},
   "outputs": [],
   "source": [
    "your_team = ['electabuzz', 'haunter','tyranitar','blaziken','marowak','dragonair']\n"
   ]
  },
  {
   "cell_type": "code",
   "execution_count": 190,
   "metadata": {},
   "outputs": [
    {
     "name": "stdout",
     "output_type": "stream",
     "text": [
      "Shinx\n",
      "Solosis\n",
      "Orbeetle\n",
      "Armaldo\n",
      "Vikavolt\n",
      "Throh\n"
     ]
    }
   ],
   "source": [
    "from random import randint\n",
    "# Random number generated for each pokemon id\n",
    "random_team = [randint(1,898) for i in range(6)]\n",
    "\n",
    "def team_build():\n",
    "    random_team = [randint(1,898) for i in range(6)]\n",
    "    team_names = []\n",
    "    for team in random_team:\n",
    "        team_names.append(rand_poke(team))\n",
    "    \n",
    "    for poke in team_names:\n",
    "        print(poke['name'].title())\n",
    "        \n",
    "    teams[team_names[0]['name']] = team_names\n",
    "\n",
    "team_build()"
   ]
  },
  {
   "cell_type": "code",
   "execution_count": 164,
   "metadata": {},
   "outputs": [
    {
     "name": "stdout",
     "output_type": "stream",
     "text": [
      "{'happiny': [{'name': 'happiny', 'types': ['normal'], 'abilities': ['natural-cure', 'serene-grace', 'friend-guard'], 'weight': 244, 'height': 6, 'sprites': 'https://raw.githubusercontent.com/PokeAPI/sprites/master/sprites/pokemon/shiny/440.png', 'id': 440}, {'name': 'calyrex', 'types': ['psychic', 'grass'], 'abilities': ['unnerve'], 'weight': 77, 'height': 11, 'sprites': 'https://raw.githubusercontent.com/PokeAPI/sprites/master/sprites/pokemon/shiny/898.png', 'id': 898}, {'name': 'espeon', 'types': ['psychic'], 'abilities': ['synchronize', 'magic-bounce'], 'weight': 265, 'height': 9, 'sprites': 'https://raw.githubusercontent.com/PokeAPI/sprites/master/sprites/pokemon/shiny/196.png', 'id': 196}, {'name': 'hypno', 'types': ['psychic'], 'abilities': ['insomnia', 'forewarn', 'inner-focus'], 'weight': 756, 'height': 16, 'sprites': 'https://raw.githubusercontent.com/PokeAPI/sprites/master/sprites/pokemon/shiny/97.png', 'id': 97}, {'name': 'slurpuff', 'types': ['fairy'], 'abilities': ['sweet-veil', 'unburden'], 'weight': 50, 'height': 8, 'sprites': 'https://raw.githubusercontent.com/PokeAPI/sprites/master/sprites/pokemon/shiny/685.png', 'id': 685}, {'name': 'drilbur', 'types': ['ground'], 'abilities': ['sand-rush', 'sand-force', 'mold-breaker'], 'weight': 85, 'height': 3, 'sprites': 'https://raw.githubusercontent.com/PokeAPI/sprites/master/sprites/pokemon/shiny/529.png', 'id': 529}]}\n"
     ]
    }
   ],
   "source": [
    "print(teams)"
   ]
  },
  {
   "cell_type": "code",
   "execution_count": 191,
   "metadata": {
    "scrolled": true
   },
   "outputs": [
    {
     "name": "stdout",
     "output_type": "stream",
     "text": [
      "\n",
      "Team Shinx\n",
      "Shinx\n",
      "Solosis\n",
      "Orbeetle\n",
      "Armaldo\n",
      "Vikavolt\n",
      "Throh\n"
     ]
    }
   ],
   "source": [
    "for team,pokes in teams.items():\n",
    "    print(f'\\nTeam {team.title()}')\n",
    "    for poke in pokes:\n",
    "        print(poke['name'].title())"
   ]
  },
  {
   "cell_type": "code",
   "execution_count": 194,
   "metadata": {},
   "outputs": [
    {
     "name": "stdout",
     "output_type": "stream",
     "text": [
      "success\n",
      "success\n",
      "success\n",
      "success\n",
      "success\n",
      "success\n"
     ]
    }
   ],
   "source": [
    "pokemon_map_team = list(map(poke_api_call, your_team))"
   ]
  },
  {
   "cell_type": "code",
   "execution_count": 196,
   "metadata": {},
   "outputs": [
    {
     "name": "stdout",
     "output_type": "stream",
     "text": [
      "[{'name': 'electabuzz', 'types': ['electric'], 'abilities': ['static', 'vital-spirit'], 'weight': 300, 'height': 11, 'sprites': 'https://raw.githubusercontent.com/PokeAPI/sprites/master/sprites/pokemon/versions/generation-v/black-white/animated/shiny/125.gif', 'id': 125}, {'name': 'haunter', 'types': ['ghost', 'poison'], 'abilities': ['levitate'], 'weight': 1, 'height': 16, 'sprites': 'https://raw.githubusercontent.com/PokeAPI/sprites/master/sprites/pokemon/versions/generation-v/black-white/animated/shiny/93.gif', 'id': 93}, {'name': 'tyranitar', 'types': ['rock', 'dark'], 'abilities': ['sand-stream', 'unnerve'], 'weight': 2020, 'height': 20, 'sprites': 'https://raw.githubusercontent.com/PokeAPI/sprites/master/sprites/pokemon/versions/generation-v/black-white/animated/shiny/248.gif', 'id': 248}, {'name': 'blaziken', 'types': ['fire', 'fighting'], 'abilities': ['blaze', 'speed-boost'], 'weight': 520, 'height': 19, 'sprites': 'https://raw.githubusercontent.com/PokeAPI/sprites/master/sprites/pokemon/versions/generation-v/black-white/animated/shiny/257.gif', 'id': 257}, {'name': 'marowak', 'types': ['ground'], 'abilities': ['rock-head', 'lightning-rod', 'battle-armor'], 'weight': 450, 'height': 10, 'sprites': 'https://raw.githubusercontent.com/PokeAPI/sprites/master/sprites/pokemon/versions/generation-v/black-white/animated/shiny/105.gif', 'id': 105}, {'name': 'dragonair', 'types': ['dragon'], 'abilities': ['shed-skin', 'marvel-scale'], 'weight': 165, 'height': 40, 'sprites': 'https://raw.githubusercontent.com/PokeAPI/sprites/master/sprites/pokemon/versions/generation-v/black-white/animated/shiny/148.gif', 'id': 148}]\n"
     ]
    }
   ],
   "source": [
    "print(pokemon_map_team)"
   ]
  },
  {
   "cell_type": "markdown",
   "metadata": {},
   "source": [
    "#### Use your function to create a dictionary of your Johto League 6  (favorite 6 pokemon)"
   ]
  },
  {
   "cell_type": "code",
   "execution_count": 11,
   "metadata": {},
   "outputs": [],
   "source": [
    "# Place all 6 of your pokemon on the object below, each pokemon should have at least as much info as Pikachu did.\n",
    "my_six_pokemon = {}\n"
   ]
  },
  {
   "cell_type": "markdown",
   "metadata": {},
   "source": [
    "## Lets create a class called 'Pokemon' and create our pokemon as instances"
   ]
  },
  {
   "cell_type": "code",
   "execution_count": 439,
   "metadata": {},
   "outputs": [],
   "source": [
    "flash = Pokemon('pikachu')"
   ]
  },
  {
   "cell_type": "code",
   "execution_count": 440,
   "metadata": {},
   "outputs": [
    {
     "data": {
      "text/plain": [
       "'static'"
      ]
     },
     "execution_count": 440,
     "metadata": {},
     "output_type": "execute_result"
    }
   ],
   "source": [
    "flash.ability\n",
    "\n"
   ]
  },
  {
   "cell_type": "code",
   "execution_count": 441,
   "metadata": {},
   "outputs": [
    {
     "data": {
      "text/plain": [
       "['electric']"
      ]
     },
     "execution_count": 441,
     "metadata": {},
     "output_type": "execute_result"
    }
   ],
   "source": [
    "flash.types\n"
   ]
  },
  {
   "cell_type": "code",
   "execution_count": 442,
   "metadata": {},
   "outputs": [
    {
     "data": {
      "image/gif": "[encoded data removed]",
      "text/plain": [
       "<IPython.core.display.Image object>"
      ]
     },
     "metadata": {
      "image/gif": {
       "width": 300
      }
     },
     "output_type": "display_data"
    }
   ],
   "source": [
    "flash.look()"
   ]
  },
  {
   "cell_type": "markdown",
   "metadata": {},
   "source": [
    "### Let's Catch some Pokemon"
   ]
  },
  {
   "cell_type": "code",
   "execution_count": null,
   "metadata": {},
   "outputs": [],
   "source": []
  },
  {
   "cell_type": "markdown",
   "metadata": {},
   "source": [
    "## Pokedex"
   ]
  },
  {
   "cell_type": "code",
   "execution_count": 25,
   "metadata": {},
   "outputs": [],
   "source": [
    "from IPython.display import Image\n",
    "\n",
    "class Pokedex:\n",
    "    def __init__(self, player_name):\n",
    "        self.player_name = player_name\n",
    "        self.total_pokes = {}\n",
    "        \n",
    "    def catch(self, name):\n",
    "        self.total_pokes[name] = Pokemon(name)\n",
    "        print(f\"You've caught a {name.title()}! Your new {name.title()} has been added to {self.player_name}'s PokeDex.\")\n",
    "        while True:\n",
    "            choice = input(f\"Would you like to nickname your newly caught {name.title()}? (Y/N)\").lower()\n",
    "            if choice == 'y':\n",
    "                nickname = self.total_pokes[name].nickname()\n",
    "                self.total_pokes[nickname] = self.total_pokes[name].pop\n",
    "                return\n",
    "            elif choice == 'n':\n",
    "                print('Back to your adventure')\n",
    "                return\n",
    "            else:\n",
    "                print(\"What was that? I think you were Koffing for a second.\")\n",
    "                \n",
    "    def pc_check(self, name):\n",
    "        if name not in self.total_pokes:\n",
    "            return f\"{name.title()} is not in your pokedex. Check back once you've caught one.\"\n",
    "            \n",
    "        self.total_pokes[name].look()\n",
    "        print(self.total_pokes[name])\n",
    "        \n",
    "        \n",
    "        \n",
    "    def evolve(self, name):\n",
    "        self.total_pokes[self.total_pokes[name].evolve_pikachu()] = self.total_pokes[name]\n",
    "#         self.total_pokes[evo] = evo\n",
    "        del self.total_pokes[name]\n",
    "        "
   ]
  },
  {
   "cell_type": "code",
   "execution_count": 26,
   "metadata": {},
   "outputs": [],
   "source": [
    "guppys_box = Pokedex('Guppy')"
   ]
  },
  {
   "cell_type": "code",
   "execution_count": 27,
   "metadata": {},
   "outputs": [
    {
     "name": "stdout",
     "output_type": "stream",
     "text": [
      "You've caught a Pikachu! Your new Pikachu has been added to Guppy's PokeDex.\n",
      "Would you like to nickname your newly caught Pikachu? (Y/N)n\n",
      "Back to your adventure\n"
     ]
    }
   ],
   "source": [
    "guppys_box.catch('pikachu')"
   ]
  },
  {
   "cell_type": "code",
   "execution_count": 28,
   "metadata": {},
   "outputs": [
    {
     "data": {
      "text/plain": [
       "\"Raichu is not in your pokedex. Check back once you've caught one.\""
      ]
     },
     "execution_count": 28,
     "metadata": {},
     "output_type": "execute_result"
    }
   ],
   "source": [
    "guppys_box.pc_check('raichu')\n",
    "\n"
   ]
  },
  {
   "cell_type": "code",
   "execution_count": 29,
   "metadata": {},
   "outputs": [
    {
     "name": "stdout",
     "output_type": "stream",
     "text": [
      "Your pikachu is evolving!\n"
     ]
    }
   ],
   "source": [
    "guppys_box.evolve('pikachu')"
   ]
  },
  {
   "cell_type": "code",
   "execution_count": 31,
   "metadata": {},
   "outputs": [
    {
     "data": {
      "text/plain": [
       "{'raichu': Name: Pikachu\n",
       " Pokemon ID: 26\n",
       " Ability: Lightning-Rod\n",
       " Type: Electric\n",
       " Height: 8\n",
       " Weight:  300\n",
       "         }"
      ]
     },
     "execution_count": 31,
     "metadata": {},
     "output_type": "execute_result"
    }
   ],
   "source": [
    "guppys_box.total_pokes"
   ]
  },
  {
   "cell_type": "code",
   "execution_count": 605,
   "metadata": {},
   "outputs": [
    {
     "ename": "KeyError",
     "evalue": "'raichu'",
     "output_type": "error",
     "traceback": [
      "\u001b[1;31m---------------------------------------------------------------------------\u001b[0m",
      "\u001b[1;31mKeyError\u001b[0m                                  Traceback (most recent call last)",
      "Input \u001b[1;32mIn [605]\u001b[0m, in \u001b[0;36m<cell line: 1>\u001b[1;34m()\u001b[0m\n\u001b[1;32m----> 1\u001b[0m \u001b[43mguppys_pokedex\u001b[49m\u001b[38;5;241;43m.\u001b[39;49m\u001b[43mpc_check\u001b[49m\u001b[43m(\u001b[49m\u001b[38;5;124;43m'\u001b[39;49m\u001b[38;5;124;43mraichu\u001b[39;49m\u001b[38;5;124;43m'\u001b[39;49m\u001b[43m)\u001b[49m\n",
      "Input \u001b[1;32mIn [551]\u001b[0m, in \u001b[0;36mPokedex.pc_check\u001b[1;34m(self, name)\u001b[0m\n\u001b[0;32m     24\u001b[0m \u001b[38;5;28;01mif\u001b[39;00m \u001b[38;5;129;01mnot\u001b[39;00m name:\n\u001b[0;32m     25\u001b[0m     \u001b[38;5;28mprint\u001b[39m(\u001b[38;5;124mf\u001b[39m\u001b[38;5;124m\"\u001b[39m\u001b[38;5;132;01m{\u001b[39;00mname\u001b[38;5;241m.\u001b[39mtitle()\u001b[38;5;132;01m}\u001b[39;00m\u001b[38;5;124m is not in your pokedex. Check back once you\u001b[39m\u001b[38;5;124m'\u001b[39m\u001b[38;5;124mve caught one.\u001b[39m\u001b[38;5;124m\"\u001b[39m)\n\u001b[1;32m---> 26\u001b[0m \u001b[38;5;28;01mif\u001b[39;00m \u001b[38;5;28mlen\u001b[39m(\u001b[38;5;28;43mself\u001b[39;49m\u001b[38;5;241;43m.\u001b[39;49m\u001b[43mtotal_pokes\u001b[49m\u001b[43m[\u001b[49m\u001b[43mname\u001b[49m\u001b[43m]\u001b[49m\u001b[38;5;241m.\u001b[39mtypes)\u001b[38;5;241m>\u001b[39m \u001b[38;5;241m1\u001b[39m:\n\u001b[0;32m     27\u001b[0m     types \u001b[38;5;241m=\u001b[39m  \u001b[38;5;28mself\u001b[39m\u001b[38;5;241m.\u001b[39mtotal_pokes[name]\u001b[38;5;241m.\u001b[39mtypes\n\u001b[0;32m     28\u001b[0m     \u001b[38;5;28mprint\u001b[39m(\u001b[38;5;28mself\u001b[39m\u001b[38;5;241m.\u001b[39mtotal_pokes[name]\u001b[38;5;241m.\u001b[39msprite)\n",
      "\u001b[1;31mKeyError\u001b[0m: 'raichu'"
     ]
    }
   ],
   "source": [
    "guppys_pokedex.pc_check('raichu')"
   ]
  },
  {
   "cell_type": "code",
   "execution_count": 592,
   "metadata": {},
   "outputs": [],
   "source": [
    "moves_dict = {}"
   ]
  },
  {
   "cell_type": "code",
   "execution_count": null,
   "metadata": {},
   "outputs": [],
   "source": []
  },
  {
   "cell_type": "markdown",
   "metadata": {},
   "source": [
    "## Exercise 1:"
   ]
  },
  {
   "cell_type": "markdown",
   "metadata": {},
   "source": [
    "### Create a Method prints an image of your pokemon\n",
    "\n",
    "<p>HINT: You may need another attribute as well to store your image url within. </p>"
   ]
  },
  {
   "cell_type": "code",
   "execution_count": 499,
   "metadata": {},
   "outputs": [
    {
     "data": {
      "image/gif": "[encoded data removed]",
      "text/plain": [
       "<IPython.core.display.Image object>"
      ]
     },
     "metadata": {
      "image/gif": {
       "width": 300
      }
     },
     "output_type": "display_data"
    }
   ],
   "source": [
    "# Calling our new method\n",
    "char = Pokemon('charizard')\n",
    "char.look()"
   ]
  },
  {
   "cell_type": "markdown",
   "metadata": {},
   "source": [
    "## Exercise 2:"
   ]
  },
  {
   "cell_type": "markdown",
   "metadata": {},
   "source": [
    "### Create a Method that evolves your Pokemon\n",
    "If your pokemon can't evolve any further print a message that says \"\\<name of pokemon> can't evolve.\""
   ]
  },
  {
   "cell_type": "code",
   "execution_count": 300,
   "metadata": {},
   "outputs": [],
   "source": [
    "  evo_cache = {}"
   ]
  },
  {
   "cell_type": "markdown",
   "metadata": {},
   "source": [
    "## Pokemon Class"
   ]
  },
  {
   "cell_type": "code",
   "execution_count": 301,
   "metadata": {},
   "outputs": [],
   "source": [
    "# for this I want to drill down into all 468 evolution chains\n",
    "# for each evolution chain we have to check chain['species']\n",
    "# if False we check the same chain['evolves_to']['species']\n",
    "# and then we check the same chain['id']['evolves_to']['evolves_to']['species']\n",
    "# if any return True we only check the next up the line to see if it evolves further and, if so, return that name.\n",
    "\n",
    "#we then plug that name into our poke_api_call/ poke creation and...\n",
    "# of the specified pokemon change all the attributes except for moves\n",
    "\n",
    "\n",
    "\n",
    "\n"
   ]
  },
  {
   "cell_type": "code",
   "execution_count": 135,
   "metadata": {},
   "outputs": [],
   "source": [
    "from random import randint\n",
    "import requests\n",
    "from IPython.display import Image\n",
    "\n",
    "\n",
    "random_ability2 = randint(0,1)\n",
    "\n",
    "class Pokemon():\n",
    "    def __init__(self, name):\n",
    "        self.name = name\n",
    "        self.types = []\n",
    "        self.ability = []\n",
    "        self.height = None\n",
    "        self.weight = None\n",
    "        self.sprite = None\n",
    "        self.id = None\n",
    "        self.poke_api_call()\n",
    "        self.moves = []\n",
    "        self.nickname = None\n",
    "        \n",
    "    def poke_api_call(self):\n",
    "        response = requests.get(f'https://pokeapi.co/api/v2/pokemon/{self.name}')\n",
    "\n",
    "        if response.status_code == 200:\n",
    "            data = response.json()\n",
    "        else:\n",
    "            return \"ERROR\"\n",
    "\n",
    "        self.types = [type['type']['name'] for type in data['types']]\n",
    "        abilities = [ability['ability']['name'] for ability in data['abilities']]\n",
    "        self.ability = abilities[randint(0, len(data['abilities'])-1)]\n",
    "        \n",
    "        try:\n",
    "            sprite = data['sprites']['versions']['generation-v']['black-white']['animated']['front_shiny']\n",
    "        except:\n",
    "            sprite = data['sprites']['front_shiny']\n",
    "        self.weight = data['weight']\n",
    "        self.height = data['height']\n",
    "        self.sprite = sprite\n",
    "        self.id = data['id']\n",
    "        \n",
    "        self.moves = data\n",
    "        # https://raw.githubusercontent.com/PokeAPI/sprites\n",
    "        #/master/sprites/pokemon/versions/generation-v/black-white/animated/shiny/25.gif\n",
    "        \n",
    "        \n",
    "    def look(self):\n",
    "        display(Image( self.sprite, width = 300))\n",
    "        \n",
    "    def nickname(self, name):\n",
    "        new_name = input(f\"What would you like to name your new {name}? \")\n",
    "        self.nickname = new_name\n",
    "        return self.nickname\n",
    "    \n",
    "    def evolve(self, evo_name):\n",
    "        response = requests.get(f'https://pokeapi.co/api/v2/pokemon/{evo_name}')\n",
    "\n",
    "        if response.status_code == 200:\n",
    "            data = response.json()\n",
    "        else:\n",
    "            return \"ERROR\"\n",
    "        \n",
    "        self.name = data['name']\n",
    "        self.types = [type['type']['name'] for type in data['types']]\n",
    "        abilities = [ability['ability']['name'] for ability in data['abilities']]\n",
    "        self.ability = abilities[randint(0, len(data['abilities'])-1)]\n",
    "        \n",
    "        try:\n",
    "            sprite = data['sprites']['versions']['generation-v']['black-white']['animated']['front_shiny']\n",
    "        except:\n",
    "            sprite = data['sprites']['front_shiny']\n",
    "        self.weight = data['weight']\n",
    "        self.height = data['height']\n",
    "        self.sprite = sprite\n",
    "        self.id = data['id']\n",
    "        return self.name\n",
    "        \n",
    "    def __repr__(self):\n",
    "        types =  self.types\n",
    "        if len(self.types)> 1:\n",
    "            return f\"\"\"Name: {self.name.title()}\n",
    "Pokemon ID: {self.id}\n",
    "Ability: {self.ability.title()}\n",
    "Type: {types[0].title()}, {types[1].title()} \n",
    "Height: {self.height}\n",
    "Weight:  {self.weight}\n",
    "        \"\"\"\n",
    "        else:\n",
    "            return f\"\"\"Name: {self.name.title()}\n",
    "Pokemon ID: {self.id}\n",
    "Ability: {self.ability.title()}\n",
    "Type: {types[0].title()}\n",
    "Height: {self.height}\n",
    "Weight:  {self.weight}\n",
    "        \"\"\"\n",
    "    \n",
    "    def __str__(self):\n",
    "        types =  self.types\n",
    "        if len(self.types)> 1:\n",
    "            return f\"\"\"Name: {self.name.title()}\n",
    "Pokemon ID: {self.id}\n",
    "Ability: {self.ability.title()}\n",
    "Type: {types[0].title()}, {types[1].title()} \n",
    "Height: {self.height}\n",
    "Weight:  {self.weight}\n",
    "        \"\"\"\n",
    "        else:\n",
    "            return f\"\"\"Name: {self.name.title()}\n",
    "Pokemon ID: {self.id}\n",
    "Ability: {self.ability.title()}\n",
    "Type: {types[0].title()}\n",
    "Height: {self.height}\n",
    "Weight:  {self.weight}\n",
    "        \"\"\"\n",
    "        \n",
    "    \n",
    "    \n",
    "        \n",
    "    def try_to_evolve(self):\n",
    "        evo = self.check_evolve()\n",
    "        print(f\"Your {self.name.title()} is trying to evolve...\")\n",
    "        if evo:\n",
    "            self.evolve(evo)\n",
    "            print(f\"into {self.name.title()}!\")\n",
    "        else:\n",
    "                print(f\"{self.name.title()} wants to evolve, but can't.\")\n",
    "\n",
    "    def check_evolve(self):\n",
    "        if self.name in evo_cache:\n",
    "            return evo_cache[self.name]\n",
    "        \n",
    "        for chain_number in range(1,468):\n",
    "            response = requests.get(f'https://pokeapi.co/api/v2/evolution-chain/{chain_number}')\n",
    "#             print(chain_number)\n",
    "            if response.status_code == 200:\n",
    "                \n",
    "                evo_data = response.json()\n",
    "            else:\n",
    "                print(f'damn {response.status_code}')\n",
    "#                Checking first stage into second\n",
    "            if evo_data['chain']['species']['name'] == self.name:\n",
    "                print(evo_data['chain']['species']['name'])\n",
    "                evo_cache[evo_data['chain']['species']['name']] = evo_data['chain']['evolves_to'][0]['species']['name']\n",
    "                print(evo_data['chain']['evolves_to'][0]['species']['name'])\n",
    "                return evo_data['chain']['evolves_to'][0]['species']['name']\n",
    "            try:\n",
    "                evo_cache[evo_data['chain']['species']['name']] = evo_data['chain']['evolves_to'][0]['species']['name']           \n",
    "                \n",
    "#                Checking second stage, then into third\n",
    "                try:\n",
    "                    if evo_data['chain']['evolves_to'][0]['species']['name'] == self.name:\n",
    "                        print(evo_data['chain']['evolves_to'][0]['species']['name'])\n",
    "                        if evo_data['chain']['evolves_to'][0]['evolves_to'][0]['species']['name']:\n",
    "                            evo_cache[evo_data['chain']['evolves_to'][0]['species']['name']] = evo_data['chain']['evolves_to'][0]['evolves_to'][0]['species']['name']\n",
    "                            return evo_data['chain']['evolves_to'][0]['evolves_to'][0]['species']['name']\n",
    "                        else:\n",
    "                            evo_cache[evo_data['chain']['evolves_to'][0]['species']['name']] = None\n",
    "                            return False\n",
    "                    else:\n",
    "                        try:\n",
    "                            if evo_data['chain']['evolves_to'][0]['evolves_to'][0]['species']['name']:\n",
    "                                evo_cache[evo_data['chain']['evolves_to'][0]['species']['name']] = evo_data['chain']['evolves_to'][0]['evolves_to'][0]['species']['name']\n",
    "                        \n",
    "#                               Checking third tier and if they exist adding their evolution dictionary\n",
    "                                if evo_data['chain']['evolves_to'][0]['evolves_to'][0]['species']['name'] == self.name:\n",
    "                                    evo_cache[evo_data['chain']['evolves_to'][0]['evolves_to'][0]['species']['name']] = None\n",
    "                                    return False\n",
    "                        except:   \n",
    "                            evo_cache[evo_data['chain']['evolves_to'][0]['species']['name']] = None\n",
    "                            \n",
    "                except:\n",
    "                    evo_cache[evo_data['chain']['evolves_to'][0]['species']['name']] = None\n",
    "                    return False\n",
    "                \n",
    "            except:\n",
    "                pass\n",
    "\n",
    "        print(\"Fuck\")\n",
    "        return False\n",
    "#                \n",
    "\n",
    "\n",
    "    \n",
    "            \n",
    "            \n",
    "    \n",
    "#     def evo_method(self):\n",
    "#         if self.name in evo_cache:\n",
    "#             if evo_cache[self.name]['evolution']:\n",
    "                \n",
    "#         else:\n",
    "#            #returns the name of the evolution so that it can be used to evolve\n",
    "\n",
    "#                 if response.status_code == 200:\n",
    "#                     print('success')\n",
    "#                     evo_cache[self.name] = response.json()\n",
    "\n",
    "#                 else:\n",
    "#                     print(f'ERROR, STATUS CODE {response.status_code}')\n",
    "#                     return \"ERROR\"\n"
   ]
  },
  {
   "cell_type": "markdown",
   "metadata": {},
   "source": [
    "Now let's evolve a few"
   ]
  },
  {
   "cell_type": "code",
   "execution_count": 150,
   "metadata": {},
   "outputs": [
    {
     "name": "stdout",
     "output_type": "stream",
     "text": [
      "Name: Bulbasaur\n",
      "Pokemon ID: 1\n",
      "Ability: Chlorophyll\n",
      "Type: Grass, Poison \n",
      "Height: 7\n",
      "Weight:  69\n",
      "        \n"
     ]
    },
    {
     "data": {
      "text/plain": [
       "Name: Eevee\n",
       "Pokemon ID: 133\n",
       "Ability: Anticipation\n",
       "Type: Normal\n",
       "Height: 3\n",
       "Weight:  65\n",
       "        "
      ]
     },
     "execution_count": 150,
     "metadata": {},
     "output_type": "execute_result"
    }
   ],
   "source": [
    "flash = Pokemon('bulbasaur')\n",
    "print(flash)\n",
    "sparky = Pokemon('eevee')\n",
    "sparky"
   ]
  },
  {
   "cell_type": "code",
   "execution_count": 151,
   "metadata": {},
   "outputs": [
    {
     "name": "stdout",
     "output_type": "stream",
     "text": [
      "Your Bulbasaur is trying to evolve...\n",
      "into Ivysaur!\n",
      "Your Eevee is trying to evolve...\n",
      "into Vaporeon!\n",
      "Name: Ivysaur\n",
      "Pokemon ID: 2\n",
      "Ability: Chlorophyll\n",
      "Type: Grass, Poison \n",
      "Height: 10\n",
      "Weight:  130\n",
      "        \n",
      "Name: Vaporeon\n",
      "Pokemon ID: 134\n",
      "Ability: Water-Absorb\n",
      "Type: Water\n",
      "Height: 10\n",
      "Weight:  290\n",
      "        \n"
     ]
    }
   ],
   "source": [
    "flash.try_to_evolve()\n",
    "sparky.try_to_evolve()\n",
    "print(flash)\n",
    "print(sparky)"
   ]
  },
  {
   "cell_type": "code",
   "execution_count": 146,
   "metadata": {},
   "outputs": [],
   "source": [
    "evo_cache = {}"
   ]
  },
  {
   "cell_type": "markdown",
   "metadata": {},
   "source": [
    "#  Final Exercise: <br> <br>Create a Move_Tutor Class that will allow the Pokemon Class to inherit a move list.\n",
    "<br>\n",
    "<p>for an added bonus you can make sure that if a pokemon has 4 moves the user can choose one of them to replace with a new move. </p>"
   ]
  },
  {
   "cell_type": "code",
   "execution_count": 19,
   "metadata": {},
   "outputs": [],
   "source": [
    "class Move_Tutor:\n",
    "    def __init__(self):\n",
    "        self.move_list = []\n",
    "        "
   ]
  },
  {
   "cell_type": "code",
   "execution_count": null,
   "metadata": {},
   "outputs": [],
   "source": []
  },
  {
   "cell_type": "code",
   "execution_count": 81,
   "metadata": {},
   "outputs": [
    {
     "name": "stdout",
     "output_type": "stream",
     "text": [
      "What move would you like to teach pikachu? spark\n",
      "pikachu learned spark!\n"
     ]
    }
   ],
   "source": [
    "pikachu.teach_move()\n"
   ]
  },
  {
   "cell_type": "code",
   "execution_count": 79,
   "metadata": {},
   "outputs": [
    {
     "name": "stdout",
     "output_type": "stream",
     "text": [
      "pikachu's moves'\n",
      "thunder\n",
      "surf\n",
      "earthquake\n"
     ]
    }
   ],
   "source": [
    "pikachu.show_moves()"
   ]
  }
 ],
 "metadata": {
  "kernelspec": {
   "display_name": "Python 3 (ipykernel)",
   "language": "python",
   "name": "python3"
  },
  "language_info": {
   "codemirror_mode": {
    "name": "ipython",
    "version": 3
   },
   "file_extension": ".py",
   "mimetype": "text/x-python",
   "name": "python",
   "nbconvert_exporter": "python",
   "pygments_lexer": "ipython3",
   "version": "3.9.12"
  }
 },
 "nbformat": 4,
 "nbformat_minor": 4
}
